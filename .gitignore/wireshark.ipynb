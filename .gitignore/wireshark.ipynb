{
 "cells": [
  {
   "cell_type": "code",
   "execution_count": 123,
   "metadata": {},
   "outputs": [],
   "source": [
    "import pandas as pd\n",
    "import numpy as np"
   ]
  },
  {
   "cell_type": "code",
   "execution_count": 124,
   "metadata": {},
   "outputs": [],
   "source": [
    "df = pd.read_csv(\"wireshark.csv\")"
   ]
  },
  {
   "cell_type": "code",
   "execution_count": 125,
   "metadata": {},
   "outputs": [],
   "source": [
    "df_atuador = []\n",
    "df_sensor = []\n",
    "\n",
    "for _,row in df.iterrows():\n",
    "    if 'Len=4' in row['Info'] and 'TCP Retransmission' not in row['Info']:\n",
    "        df_atuador.append(row)\n",
    "    if 'Len=5' in row['Info']:\n",
    "        df_sensor.append(row)"
   ]
  },
  {
   "cell_type": "code",
   "execution_count": 126,
   "metadata": {},
   "outputs": [],
   "source": [
    "df_sensor = pd.DataFrame(df_sensor)\n",
    "df_atuador= pd.DataFrame(df_atuador)"
   ]
  },
  {
   "cell_type": "code",
   "execution_count": 127,
   "metadata": {},
   "outputs": [
    {
     "name": "stdout",
     "output_type": "stream",
     "text": [
      "t_sensor = 0.081914 --- t_atuador = 0.394047\n",
      "t_sensor = 0.614078 --- t_atuador = 0.704206\n",
      "t_sensor = 1.135127 --- t_atuador = 1.384053\n",
      "t_sensor = 1.649793 --- t_atuador = 1.675822\n",
      "t_sensor = 2.164445 --- t_atuador = 2.435237\n",
      "t_sensor = 2.710066 --- t_atuador = 2.752023\n",
      "t_sensor = 3.203905 --- t_atuador = 3.547358\n",
      "t_sensor = 3.728383 --- t_atuador = 3.813027\n",
      "t_sensor = 4.251557 --- t_atuador = 4.455151\n",
      "t_sensor = 4.824809 --- t_atuador = 5.085352\n",
      "t_sensor = 5.310707 --- t_atuador = 5.386255\n",
      "t_sensor = 6.397668 --- t_atuador = 6.405369\n",
      "t_sensor = 6.925579 --- t_atuador = 6.956572\n",
      "t_sensor = 7.386371 --- t_atuador = 7.716844\n",
      "t_sensor = 7.982457 --- t_atuador = 8.377651\n",
      "t_sensor = 8.439792 --- t_atuador = 8.718914\n",
      "t_sensor = 8.964660 --- t_atuador = 9.040580\n"
     ]
    }
   ],
   "source": [
    "dif_list = []\n",
    "for t_sensor, t_atuador in zip(df_sensor['Time'], df_atuador['Time']):\n",
    "    print('t_sensor = %.6f --- t_atuador = %.6f' %(t_sensor,t_atuador))\n",
    "    dif_list.append(t_atuador - t_sensor)"
   ]
  },
  {
   "cell_type": "code",
   "execution_count": 128,
   "metadata": {},
   "outputs": [
    {
     "name": "stdout",
     "output_type": "stream",
     "text": [
      "[0.312133, 0.09012799999999999, 0.24892599999999998, 0.02602900000000008, 0.2707919999999997, 0.04195700000000002, 0.34345300000000023, 0.0846439999999995, 0.20359399999999983, 0.2605430000000002, 0.07554800000000039, 0.007700999999999958, 0.03099300000000138, 0.3304729999999996, 0.39519399999999916, 0.2791219999999992, 0.07591999999999999]\n"
     ]
    }
   ],
   "source": [
    "print(dif_list)"
   ]
  },
  {
   "cell_type": "code",
   "execution_count": 129,
   "metadata": {},
   "outputs": [
    {
     "data": {
      "text/plain": [
       "0.39519399999999916"
      ]
     },
     "execution_count": 129,
     "metadata": {},
     "output_type": "execute_result"
    }
   ],
   "source": [
    "np.max(dif_list)"
   ]
  },
  {
   "cell_type": "code",
   "execution_count": 130,
   "metadata": {},
   "outputs": [
    {
     "data": {
      "text/plain": [
       "0.007700999999999958"
      ]
     },
     "execution_count": 130,
     "metadata": {},
     "output_type": "execute_result"
    }
   ],
   "source": [
    "np.min(dif_list)"
   ]
  },
  {
   "cell_type": "code",
   "execution_count": 132,
   "metadata": {},
   "outputs": [
    {
     "data": {
      "text/plain": [
       "0.18100882352941172"
      ]
     },
     "execution_count": 132,
     "metadata": {},
     "output_type": "execute_result"
    }
   ],
   "source": [
    "np.average(dif_list)"
   ]
  },
  {
   "cell_type": "code",
   "execution_count": null,
   "metadata": {},
   "outputs": [],
   "source": []
  }
 ],
 "metadata": {
  "kernelspec": {
   "display_name": "Python 3",
   "language": "python",
   "name": "python3"
  },
  "language_info": {
   "codemirror_mode": {
    "name": "ipython",
    "version": 3
   },
   "file_extension": ".py",
   "mimetype": "text/x-python",
   "name": "python",
   "nbconvert_exporter": "python",
   "pygments_lexer": "ipython3",
   "version": "3.8.3"
  }
 },
 "nbformat": 4,
 "nbformat_minor": 4
}
