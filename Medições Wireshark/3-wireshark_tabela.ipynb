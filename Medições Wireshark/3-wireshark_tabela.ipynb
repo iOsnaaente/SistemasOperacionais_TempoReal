{
 "cells": [
  {
   "cell_type": "code",
   "execution_count": 14,
   "metadata": {},
   "outputs": [],
   "source": [
    "import pandas as pd\n",
    "import numpy as np"
   ]
  },
  {
   "cell_type": "markdown",
   "metadata": {},
   "source": [
    "### <b> Importa os dados </b> ### "
   ]
  },
  {
   "cell_type": "code",
   "execution_count": 15,
   "metadata": {},
   "outputs": [],
   "source": [
    "df = pd.read_csv(\"wireshark3.csv\")"
   ]
  },
  {
   "cell_type": "markdown",
   "metadata": {},
   "source": [
    "### <b> Filtrando os dados tirados do wireshark </b> ### \n",
    "\n"
   ]
  },
  {
   "cell_type": "code",
   "execution_count": 16,
   "metadata": {},
   "outputs": [],
   "source": [
    "atuador_rows = []\n",
    "sensor_rows = []\n",
    "\n",
    "for _,row in df.iterrows():\n",
    "    if 'Len=4' in row['Info'] and 'TCP Retransmission' not in row['Info'] and 'UDP' not in row['Protocol']:\n",
    "        atuador_rows.append(row)\n",
    "    if 'Len=5' in row['Info']:\n",
    "        sensor_rows.append(row)"
   ]
  },
  {
   "cell_type": "markdown",
   "metadata": {},
   "source": [
    "### <b> Criando os dataframes </b> ###"
   ]
  },
  {
   "cell_type": "code",
   "execution_count": 17,
   "metadata": {},
   "outputs": [],
   "source": [
    "df_sensor = pd.DataFrame(sensor_rows)\n",
    "df_atuador= pd.DataFrame(atuador_rows)"
   ]
  },
  {
   "cell_type": "markdown",
   "metadata": {},
   "source": [
    "### <b> Lista de diferença dos tempos do atuador e sensor </b> ###"
   ]
  },
  {
   "cell_type": "code",
   "execution_count": 18,
   "metadata": {},
   "outputs": [
    {
     "name": "stdout",
     "output_type": "stream",
     "text": [
      "\n",
      "\n",
      "\n"
     ]
    }
   ],
   "source": [
    "dif_list = []\n",
    "for t_sensor, t_atuador in zip(df_sensor['Time'], df_atuador['Time'][1:]):\n",
    "    #print('t_sensor = %.6f ---- t_atuador = %.6f' %(t_sensor,t_atuador))\n",
    "    dif_list.append(t_atuador - t_sensor)\n",
    "print('\\n\\n')"
   ]
  },
  {
   "cell_type": "markdown",
   "metadata": {},
   "source": [
    " ### <b> Extraindo informações sobre o tempo de resposta atuador/sensor </b> ### "
   ]
  },
  {
   "cell_type": "code",
   "execution_count": 19,
   "metadata": {},
   "outputs": [],
   "source": [
    "dif_list_max = np.max(dif_list)\n",
    "dif_list_min = np.min(dif_list)\n",
    "dif_list_average = np.mean(dif_list)"
   ]
  },
  {
   "cell_type": "code",
   "execution_count": 20,
   "metadata": {},
   "outputs": [
    {
     "name": "stdout",
     "output_type": "stream",
     "text": [
      "TEMPO DE RESPOSTA SENSOR/ATUADOR\n",
      "\n",
      "Mais lento: 1.339008\n",
      "Mais rápido: 0.003402\n",
      "Médio 0.591731\n",
      "\n",
      "\n",
      "\n"
     ]
    }
   ],
   "source": [
    "print('TEMPO DE RESPOSTA SENSOR/ATUADOR\\n')\n",
    "print('Mais lento: %.6f' %dif_list_max)\n",
    "print('Mais rápido: %.6f' %dif_list_min)\n",
    "print('Médio %.6f' %dif_list_average)\n",
    "print('\\n\\n')"
   ]
  },
  {
   "cell_type": "code",
   "execution_count": 21,
   "metadata": {},
   "outputs": [],
   "source": [
    "sensor_data = []\n",
    "atuador_data = []\n",
    "sensor_data = [row['Time'] for _,row in df_sensor.iterrows()]\n",
    "atuador_data = [row['Time'] for _,row in df_atuador.iterrows()]"
   ]
  },
  {
   "cell_type": "code",
   "execution_count": 22,
   "metadata": {},
   "outputs": [],
   "source": [
    "sensor_dif_data = [sensor_data[i+1] - sensor_data[i] for i in range(len(sensor_data) - 1)]\n",
    "atuador_dif_data = [atuador_data[i+1] - atuador_data[i] for i in range(len(atuador_data) - 1)]"
   ]
  },
  {
   "cell_type": "code",
   "execution_count": 23,
   "metadata": {},
   "outputs": [],
   "source": [
    "average_sensor_time = np.mean(sensor_dif_data)\n",
    "max_sensor_time = np.max(sensor_dif_data)\n",
    "min_sensor_time = np.min(sensor_dif_data)\n",
    "\n",
    "average_atuador_time = np.mean(atuador_dif_data)\n",
    "max_atuador_time = np.max(atuador_dif_data)\n",
    "min_atuador_time = np.min(atuador_dif_data)"
   ]
  },
  {
   "cell_type": "code",
   "execution_count": 24,
   "metadata": {},
   "outputs": [
    {
     "name": "stdout",
     "output_type": "stream",
     "text": [
      "SENSOR\n",
      "\n",
      "Tempo médio de requisição: 0.538052\n",
      "-----------------------------------------------\n",
      "ATUADOR\n",
      "\n",
      "Tempo médio de requisição: 0.537148\n",
      "\n",
      "\n",
      "\n"
     ]
    }
   ],
   "source": [
    "print('SENSOR\\n')\n",
    "print('Tempo médio de requisição: %.6f' %average_sensor_time)\n",
    "print('-----------------------------------------------')\n",
    "print('ATUADOR\\n')\n",
    "print('Tempo médio de requisição: %.6f' %average_atuador_time)\n",
    "print('\\n\\n')"
   ]
  },
  {
   "cell_type": "code",
   "execution_count": 12,
   "metadata": {},
   "outputs": [
    {
     "data": {
      "text/plain": [
       "No.            376\n",
       "Time           376\n",
       "Source         376\n",
       "Destination    376\n",
       "Protocol       376\n",
       "Length         376\n",
       "Info           376\n",
       "dtype: int64"
      ]
     },
     "execution_count": 12,
     "metadata": {},
     "output_type": "execute_result"
    }
   ],
   "source": [
    "df_sensor.count()"
   ]
  },
  {
   "cell_type": "code",
   "execution_count": 25,
   "metadata": {},
   "outputs": [
    {
     "data": {
      "text/plain": [
       "No.            377\n",
       "Time           377\n",
       "Source         377\n",
       "Destination    377\n",
       "Protocol       377\n",
       "Length         377\n",
       "Info           377\n",
       "dtype: int64"
      ]
     },
     "execution_count": 25,
     "metadata": {},
     "output_type": "execute_result"
    }
   ],
   "source": [
    "df_atuador.count()"
   ]
  },
  {
   "cell_type": "code",
   "execution_count": null,
   "metadata": {},
   "outputs": [],
   "source": []
  }
 ],
 "metadata": {
  "kernelspec": {
   "display_name": "Python 3",
   "language": "python",
   "name": "python3"
  },
  "language_info": {
   "codemirror_mode": {
    "name": "ipython",
    "version": 3
   },
   "file_extension": ".py",
   "mimetype": "text/x-python",
   "name": "python",
   "nbconvert_exporter": "python",
   "pygments_lexer": "ipython3",
   "version": "3.8.3"
  }
 },
 "nbformat": 4,
 "nbformat_minor": 4
}
