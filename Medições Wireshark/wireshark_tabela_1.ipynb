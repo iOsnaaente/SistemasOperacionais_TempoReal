{
 "cells": [
  {
   "cell_type": "code",
   "execution_count": 1,
   "metadata": {},
   "outputs": [],
   "source": [
    "import pandas as pd\n",
    "import numpy as np"
   ]
  },
  {
   "cell_type": "markdown",
   "metadata": {},
   "source": [
    "### <b> Importa os dados </b> ### "
   ]
  },
  {
   "cell_type": "code",
   "execution_count": 2,
   "metadata": {},
   "outputs": [],
   "source": [
    "df = pd.read_csv(\"wireshark.csv\")"
   ]
  },
  {
   "cell_type": "markdown",
   "metadata": {},
   "source": [
    "### <b> Filtrando os dados tirados do wireshark </b> ### \n",
    "\n"
   ]
  },
  {
   "cell_type": "code",
   "execution_count": 3,
   "metadata": {},
   "outputs": [],
   "source": [
    "atuador_rows = []\n",
    "sensor_rows = []\n",
    "\n",
    "for _,row in df.iterrows():\n",
    "    if 'Len=4' in row['Info'] and 'TCP Retransmission' not in row['Info'] and 'UDP' not in row['Protocol']:\n",
    "        atuador_rows.append(row)\n",
    "    if 'Len=5' in row['Info']:\n",
    "        sensor_rows.append(row)"
   ]
  },
  {
   "cell_type": "markdown",
   "metadata": {},
   "source": [
    "### <b> Criando os dataframes </b> ###"
   ]
  },
  {
   "cell_type": "code",
   "execution_count": 4,
   "metadata": {},
   "outputs": [],
   "source": [
    "df_sensor = pd.DataFrame(sensor_rows)\n",
    "df_atuador= pd.DataFrame(atuador_rows)"
   ]
  },
  {
   "cell_type": "markdown",
   "metadata": {},
   "source": [
    "### <b> Lista de diferença dos tempos do atuador e sensor </b> ###"
   ]
  },
  {
   "cell_type": "code",
   "execution_count": 5,
   "metadata": {},
   "outputs": [
    {
     "name": "stdout",
     "output_type": "stream",
     "text": [
      "t_sensor = 0.081914 ---- t_atuador = 0.394047\n",
      "t_sensor = 0.614078 ---- t_atuador = 0.704206\n",
      "t_sensor = 1.135127 ---- t_atuador = 1.384053\n",
      "t_sensor = 1.649793 ---- t_atuador = 1.675822\n",
      "t_sensor = 2.164445 ---- t_atuador = 2.435237\n",
      "t_sensor = 2.710066 ---- t_atuador = 2.752023\n",
      "t_sensor = 3.203905 ---- t_atuador = 3.547358\n",
      "t_sensor = 3.728383 ---- t_atuador = 3.813027\n",
      "t_sensor = 4.251557 ---- t_atuador = 4.455151\n",
      "t_sensor = 4.824809 ---- t_atuador = 5.085352\n",
      "t_sensor = 5.310707 ---- t_atuador = 5.386255\n",
      "t_sensor = 6.397668 ---- t_atuador = 6.405369\n",
      "t_sensor = 6.925579 ---- t_atuador = 6.956572\n",
      "t_sensor = 7.386371 ---- t_atuador = 7.716844\n",
      "t_sensor = 7.982457 ---- t_atuador = 8.377651\n",
      "t_sensor = 8.439792 ---- t_atuador = 8.718914\n",
      "t_sensor = 8.964660 ---- t_atuador = 9.040580\n",
      "\n",
      "\n",
      "\n"
     ]
    }
   ],
   "source": [
    "dif_list = []\n",
    "for t_sensor, t_atuador in zip(df_sensor['Time'], df_atuador['Time']):\n",
    "    print('t_sensor = %.6f ---- t_atuador = %.6f' %(t_sensor,t_atuador))\n",
    "    dif_list.append(t_atuador - t_sensor)\n",
    "print('\\n\\n')"
   ]
  },
  {
   "cell_type": "markdown",
   "metadata": {},
   "source": [
    " ### <b> Extraindo informações sobre o tempo de resposta atuador/sensor </b> ### "
   ]
  },
  {
   "cell_type": "code",
   "execution_count": 6,
   "metadata": {},
   "outputs": [],
   "source": [
    "dif_list_max = np.max(dif_list)\n",
    "dif_list_min = np.min(dif_list)\n",
    "dif_list_average = np.mean(dif_list)"
   ]
  },
  {
   "cell_type": "code",
   "execution_count": 7,
   "metadata": {},
   "outputs": [
    {
     "name": "stdout",
     "output_type": "stream",
     "text": [
      "TEMPO DE RESPOSTA SENSOR/ATUADOR\n",
      "\n",
      "Mais lento: 0.395194\n",
      "Mais rápido: 0.007701\n",
      "Médio 0.181009\n",
      "\n",
      "\n",
      "\n"
     ]
    }
   ],
   "source": [
    "print('TEMPO DE RESPOSTA SENSOR/ATUADOR\\n')\n",
    "print('Mais lento: %.6f' %dif_list_max)\n",
    "print('Mais rápido: %.6f' %dif_list_min)\n",
    "print('Médio %.6f' %dif_list_average)\n",
    "print('\\n\\n')"
   ]
  },
  {
   "cell_type": "code",
   "execution_count": 8,
   "metadata": {},
   "outputs": [],
   "source": [
    "sensor_data = []\n",
    "atuador_data = []\n",
    "sensor_data = [row['Time'] for _,row in df_sensor.iterrows()]\n",
    "atuador_data = [row['Time'] for _,row in df_atuador.iterrows()]"
   ]
  },
  {
   "cell_type": "code",
   "execution_count": 9,
   "metadata": {},
   "outputs": [],
   "source": [
    "sensor_dif_data = [sensor_data[i+1] - sensor_data[i] for i in range(len(sensor_data) - 1)]\n",
    "atuador_dif_data = [atuador_data[i+1] - atuador_data[i] for i in range(len(atuador_data) - 1)]"
   ]
  },
  {
   "cell_type": "code",
   "execution_count": 10,
   "metadata": {},
   "outputs": [],
   "source": [
    "average_sensor_time = np.mean(sensor_dif_data)\n",
    "max_sensor_time = np.max(sensor_dif_data)\n",
    "min_sensor_time = np.min(sensor_dif_data)\n",
    "\n",
    "average_atuador_time = np.mean(atuador_dif_data)\n",
    "max_atuador_time = np.max(atuador_dif_data)\n",
    "min_atuador_time = np.min(atuador_dif_data)"
   ]
  },
  {
   "cell_type": "code",
   "execution_count": 11,
   "metadata": {},
   "outputs": [
    {
     "name": "stdout",
     "output_type": "stream",
     "text": [
      "SENSOR\n",
      "\n",
      "Tempo médio de requisição: 0.553506\n",
      "-----------------------------------------------\n",
      "ATUADOR\n",
      "\n",
      "Tempo médio de requisição: 0.540408\n",
      "\n",
      "\n",
      "\n"
     ]
    }
   ],
   "source": [
    "print('SENSOR\\n')\n",
    "print('Tempo médio de requisição: %.6f' %average_sensor_time)\n",
    "print('-----------------------------------------------')\n",
    "print('ATUADOR\\n')\n",
    "print('Tempo médio de requisição: %.6f' %average_atuador_time)\n",
    "print('\\n\\n')"
   ]
  },
  {
   "cell_type": "code",
   "execution_count": null,
   "metadata": {},
   "outputs": [],
   "source": []
  },
  {
   "cell_type": "code",
   "execution_count": null,
   "metadata": {},
   "outputs": [],
   "source": []
  }
 ],
 "metadata": {
  "kernelspec": {
   "display_name": "Python 3",
   "language": "python",
   "name": "python3"
  },
  "language_info": {
   "codemirror_mode": {
    "name": "ipython",
    "version": 3
   },
   "file_extension": ".py",
   "mimetype": "text/x-python",
   "name": "python",
   "nbconvert_exporter": "python",
   "pygments_lexer": "ipython3",
   "version": "3.8.3"
  }
 },
 "nbformat": 4,
 "nbformat_minor": 4
}
