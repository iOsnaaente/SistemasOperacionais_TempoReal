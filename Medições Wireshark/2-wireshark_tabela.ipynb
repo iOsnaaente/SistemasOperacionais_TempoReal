{
 "cells": [
  {
   "cell_type": "code",
   "execution_count": 1,
   "metadata": {},
   "outputs": [],
   "source": [
    "import pandas as pd\n",
    "import numpy as np"
   ]
  },
  {
   "cell_type": "markdown",
   "metadata": {},
   "source": [
    "### <b> Importa os dados </b> ### "
   ]
  },
  {
   "cell_type": "code",
   "execution_count": 2,
   "metadata": {},
   "outputs": [],
   "source": [
    "df = pd.read_csv(\"wireshark2.csv\")"
   ]
  },
  {
   "cell_type": "markdown",
   "metadata": {},
   "source": [
    "### <b> Filtrando os dados tirados do wireshark </b> ### \n",
    "\n"
   ]
  },
  {
   "cell_type": "code",
   "execution_count": 3,
   "metadata": {},
   "outputs": [],
   "source": [
    "atuador_rows = []\n",
    "sensor_rows = []\n",
    "\n",
    "for _,row in df.iterrows():\n",
    "    if 'Len=4' in row['Info'] and 'TCP Retransmission' not in row['Info'] and 'UDP' not in row['Protocol']:\n",
    "        atuador_rows.append(row)\n",
    "    if 'Len=5' in row['Info']:\n",
    "        sensor_rows.append(row)"
   ]
  },
  {
   "cell_type": "markdown",
   "metadata": {},
   "source": [
    "### <b> Criando os dataframes </b> ###"
   ]
  },
  {
   "cell_type": "code",
   "execution_count": 4,
   "metadata": {},
   "outputs": [],
   "source": [
    "df_sensor = pd.DataFrame(sensor_rows)\n",
    "df_atuador= pd.DataFrame(atuador_rows)"
   ]
  },
  {
   "cell_type": "markdown",
   "metadata": {},
   "source": [
    "### <b> Lista de diferença dos tempos do atuador e sensor </b> ###"
   ]
  },
  {
   "cell_type": "code",
   "execution_count": 5,
   "metadata": {},
   "outputs": [
    {
     "name": "stdout",
     "output_type": "stream",
     "text": [
      "t_sensor = 0.394338 ---- t_atuador = 0.513945\n",
      "t_sensor = 0.926303 ---- t_atuador = 1.201144\n",
      "t_sensor = 1.456529 ---- t_atuador = 1.520818\n",
      "t_sensor = 1.973797 ---- t_atuador = 2.657992\n",
      "t_sensor = 2.504292 ---- t_atuador = 2.716861\n",
      "t_sensor = 3.027722 ---- t_atuador = 3.305469\n",
      "t_sensor = 3.556482 ---- t_atuador = 3.953877\n",
      "t_sensor = 4.074126 ---- t_atuador = 4.316330\n",
      "t_sensor = 4.603770 ---- t_atuador = 4.616628\n",
      "t_sensor = 5.134027 ---- t_atuador = 5.278419\n",
      "t_sensor = 5.650620 ---- t_atuador = 6.346905\n",
      "t_sensor = 6.180035 ---- t_atuador = 6.400187\n",
      "t_sensor = 6.709234 ---- t_atuador = 6.947123\n",
      "t_sensor = 7.227367 ---- t_atuador = 7.240117\n",
      "t_sensor = 7.757877 ---- t_atuador = 7.999794\n",
      "t_sensor = 8.276638 ---- t_atuador = 8.290953\n",
      "t_sensor = 8.804602 ---- t_atuador = 8.844461\n",
      "t_sensor = 9.320748 ---- t_atuador = 9.554162\n",
      "t_sensor = 9.852595 ---- t_atuador = 10.254869\n",
      "t_sensor = 10.384771 ---- t_atuador = 10.549327\n",
      "t_sensor = 10.902983 ---- t_atuador = 11.292804\n",
      "t_sensor = 11.433844 ---- t_atuador = 11.601259\n",
      "t_sensor = 11.956317 ---- t_atuador = 12.747200\n",
      "t_sensor = 13.023272 ---- t_atuador = 13.309252\n",
      "t_sensor = 13.576241 ---- t_atuador = 13.855781\n",
      "t_sensor = 14.038045 ---- t_atuador = 14.041110\n",
      "t_sensor = 14.573810 ---- t_atuador = 14.598792\n",
      "t_sensor = 15.099967 ---- t_atuador = 15.271142\n",
      "t_sensor = 15.599538 ---- t_atuador = 16.058405\n",
      "t_sensor = 16.122543 ---- t_atuador = 16.420441\n",
      "t_sensor = 16.688716 ---- t_atuador = 17.218143\n",
      "t_sensor = 17.214373 ---- t_atuador = 17.737742\n",
      "t_sensor = 17.740448 ---- t_atuador = 18.001871\n",
      "t_sensor = 18.219349 ---- t_atuador = 18.415570\n",
      "t_sensor = 18.744695 ---- t_atuador = 19.076610\n",
      "t_sensor = 19.274157 ---- t_atuador = 19.476254\n",
      "t_sensor = 19.803902 ---- t_atuador = 20.042016\n",
      "t_sensor = 20.320691 ---- t_atuador = 20.336625\n",
      "t_sensor = 20.849916 ---- t_atuador = 21.026295\n",
      "t_sensor = 21.378827 ---- t_atuador = 21.706475\n",
      "t_sensor = 21.906197 ---- t_atuador = 21.997982\n",
      "t_sensor = 22.491093 ---- t_atuador = 22.758412\n",
      "t_sensor = 23.029584 ---- t_atuador = 23.211286\n",
      "t_sensor = 23.578091 ---- t_atuador = 23.597845\n",
      "t_sensor = 24.022411 ---- t_atuador = 24.317350\n",
      "t_sensor = 24.575813 ---- t_atuador = 24.625740\n",
      "t_sensor = 25.082912 ---- t_atuador = 25.372374\n",
      "t_sensor = 25.611620 ---- t_atuador = 25.668674\n",
      "t_sensor = 26.131483 ---- t_atuador = 26.179112\n",
      "t_sensor = 26.708596 ---- t_atuador = 26.956948\n",
      "t_sensor = 27.239017 ---- t_atuador = 27.390651\n",
      "t_sensor = 27.758154 ---- t_atuador = 27.958648\n",
      "t_sensor = 28.286031 ---- t_atuador = 28.637368\n",
      "t_sensor = 28.812835 ---- t_atuador = 28.944199\n",
      "t_sensor = 29.330822 ---- t_atuador = 29.651005\n",
      "t_sensor = 29.847604 ---- t_atuador = 29.982863\n",
      "t_sensor = 30.364638 ---- t_atuador = 30.377258\n",
      "t_sensor = 30.882534 ---- t_atuador = 30.994055\n",
      "t_sensor = 31.922132 ---- t_atuador = 32.199854\n",
      "t_sensor = 32.474033 ---- t_atuador = 32.479513\n",
      "t_sensor = 33.028315 ---- t_atuador = 33.035811\n",
      "t_sensor = 33.584855 ---- t_atuador = 33.779508\n",
      "t_sensor = 34.016163 ---- t_atuador = 34.484191\n",
      "t_sensor = 34.540906 ---- t_atuador = 34.891345\n",
      "t_sensor = 35.107127 ---- t_atuador = 35.373812\n",
      "t_sensor = 35.578257 ---- t_atuador = 35.907560\n",
      "t_sensor = 36.164205 ---- t_atuador = 36.167418\n",
      "t_sensor = 36.687529 ---- t_atuador = 36.692005\n",
      "t_sensor = 37.213636 ---- t_atuador = 37.650334\n",
      "t_sensor = 37.678167 ---- t_atuador = 37.742965\n",
      "t_sensor = 38.207646 ---- t_atuador = 38.292685\n",
      "t_sensor = 38.729578 ---- t_atuador = 38.989323\n",
      "t_sensor = 39.257488 ---- t_atuador = 39.315024\n",
      "t_sensor = 39.787388 ---- t_atuador = 40.003773\n",
      "t_sensor = 40.311035 ---- t_atuador = 40.316844\n",
      "t_sensor = 40.826526 ---- t_atuador = 41.012205\n",
      "t_sensor = 41.352332 ---- t_atuador = 41.720268\n",
      "t_sensor = 41.874232 ---- t_atuador = 42.106905\n",
      "t_sensor = 42.487271 ---- t_atuador = 42.491690\n",
      "t_sensor = 43.037548 ---- t_atuador = 43.364210\n",
      "t_sensor = 43.873455 ---- t_atuador = 44.026786\n",
      "t_sensor = 43.994451 ---- t_atuador = 44.351145\n",
      "\n",
      "\n",
      "\n"
     ]
    }
   ],
   "source": [
    "dif_list = []\n",
    "for t_sensor, t_atuador in zip(df_sensor['Time'], df_atuador['Time'][1:]):\n",
    "    print('t_sensor = %.6f ---- t_atuador = %.6f' %(t_sensor,t_atuador))\n",
    "    dif_list.append(t_atuador - t_sensor)\n",
    "print('\\n\\n')"
   ]
  },
  {
   "cell_type": "markdown",
   "metadata": {},
   "source": [
    " ### <b> Extraindo informações sobre o tempo de resposta atuador/sensor </b> ### "
   ]
  },
  {
   "cell_type": "code",
   "execution_count": 6,
   "metadata": {},
   "outputs": [],
   "source": [
    "dif_list_max = np.max(dif_list)\n",
    "dif_list_min = np.min(dif_list)\n",
    "dif_list_average = np.mean(dif_list)"
   ]
  },
  {
   "cell_type": "code",
   "execution_count": 7,
   "metadata": {},
   "outputs": [
    {
     "name": "stdout",
     "output_type": "stream",
     "text": [
      "TEMPO DE RESPOSTA SENSOR/ATUADOR\n",
      "\n",
      "Mais lento: 0.790883\n",
      "Mais rápido: 0.003065\n",
      "Médio 0.219377\n",
      "\n",
      "\n",
      "\n"
     ]
    }
   ],
   "source": [
    "print('TEMPO DE RESPOSTA SENSOR/ATUADOR\\n')\n",
    "print('Mais lento: %.6f' %dif_list_max)\n",
    "print('Mais rápido: %.6f' %dif_list_min)\n",
    "print('Médio %.6f' %dif_list_average)\n",
    "print('\\n\\n')"
   ]
  },
  {
   "cell_type": "code",
   "execution_count": 8,
   "metadata": {},
   "outputs": [],
   "source": [
    "sensor_data = []\n",
    "atuador_data = []\n",
    "sensor_data = [row['Time'] for _,row in df_sensor.iterrows()]\n",
    "atuador_data = [row['Time'] for _,row in df_atuador.iterrows()]"
   ]
  },
  {
   "cell_type": "code",
   "execution_count": 9,
   "metadata": {},
   "outputs": [],
   "source": [
    "sensor_dif_data = [sensor_data[i+1] - sensor_data[i] for i in range(len(sensor_data) - 1)]\n",
    "atuador_dif_data = [atuador_data[i+1] - atuador_data[i] for i in range(len(atuador_data) - 1)]"
   ]
  },
  {
   "cell_type": "code",
   "execution_count": 10,
   "metadata": {},
   "outputs": [],
   "source": [
    "average_sensor_time = np.mean(sensor_dif_data)\n",
    "max_sensor_time = np.max(sensor_dif_data)\n",
    "min_sensor_time = np.min(sensor_dif_data)\n",
    "\n",
    "average_atuador_time = np.mean(atuador_dif_data)\n",
    "max_atuador_time = np.max(atuador_dif_data)\n",
    "min_atuador_time = np.min(atuador_dif_data)"
   ]
  },
  {
   "cell_type": "code",
   "execution_count": 11,
   "metadata": {},
   "outputs": [
    {
     "name": "stdout",
     "output_type": "stream",
     "text": [
      "SENSOR\n",
      "\n",
      "Tempo médio de requisição: 0.538951\n",
      "-----------------------------------------------\n",
      "ATUADOR\n",
      "\n",
      "Tempo médio de requisição: 0.538342\n",
      "\n",
      "\n",
      "\n"
     ]
    }
   ],
   "source": [
    "print('SENSOR\\n')\n",
    "print('Tempo médio de requisição: %.6f' %average_sensor_time)\n",
    "print('-----------------------------------------------')\n",
    "print('ATUADOR\\n')\n",
    "print('Tempo médio de requisição: %.6f' %average_atuador_time)\n",
    "print('\\n\\n')"
   ]
  },
  {
   "cell_type": "code",
   "execution_count": null,
   "metadata": {},
   "outputs": [],
   "source": []
  }
 ],
 "metadata": {
  "kernelspec": {
   "display_name": "Python 3",
   "language": "python",
   "name": "python3"
  },
  "language_info": {
   "codemirror_mode": {
    "name": "ipython",
    "version": 3
   },
   "file_extension": ".py",
   "mimetype": "text/x-python",
   "name": "python",
   "nbconvert_exporter": "python",
   "pygments_lexer": "ipython3",
   "version": "3.8.3"
  }
 },
 "nbformat": 4,
 "nbformat_minor": 4
}
