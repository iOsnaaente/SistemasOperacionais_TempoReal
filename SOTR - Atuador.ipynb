{
 "cells": [
  {
   "cell_type": "code",
   "execution_count": 2,
   "metadata": {},
   "outputs": [],
   "source": [
    "from TCP_Client import Client_TCP\n",
    "from Serial_SR import Serial_SR\n",
    "\n",
    "from threading import Thread\n",
    "\n",
    "import time \n",
    "import sys \n",
    "import os"
   ]
  },
  {
   "cell_type": "code",
   "execution_count": 3,
   "metadata": {},
   "outputs": [
    {
     "name": "stdout",
     "output_type": "stream",
     "text": [
      "Iniciando a conexão cliente/servidor...\n",
      "Falha para conectar no servidor :  ('localhost', 1205)  Chame novamente o método connect_server mais tarde\n"
     ]
    }
   ],
   "source": [
    "# MACRO-DEFINIÇÕES \n",
    "COMPORT = 0\n",
    "HOST    = 'localhost'\n",
    "PORT    = 1205\n",
    "\n",
    "PERIOD = 500                                    # Periodo do ciclo \n",
    "NAME = 'Atuador'                                # Nome do serviço \n",
    "\n",
    "TERMINAL_SIZE = os.get_terminal_size().lines    # \"Limpar\" a tela com '\\n' \n",
    "\n",
    "# INSTANCIAMENTO DA CLASSE CLIENTE \n",
    "print(\"Iniciando a conexão cliente/servidor...\")\n",
    "cliente = Client_TCP( HOST, PORT, timeout = 1)"
   ]
  },
  {
   "cell_type": "code",
   "execution_count": 4,
   "metadata": {},
   "outputs": [
    {
     "name": "stdout",
     "output_type": "stream",
     "text": [
      "Falha para conectar no servidor :  ('localhost', 1205)  Chame novamente o método connect_server mais tarde\n",
      "Falha para conectar no servidor :  ('localhost', 1205)  Chame novamente o método connect_server mais tarde\n",
      "Falha para conectar no servidor :  ('localhost', 1205)  Chame novamente o método connect_server mais tarde\n",
      "Falha para conectar no servidor :  ('localhost', 1205)  Chame novamente o método connect_server mais tarde\n",
      "Falha para conectar no servidor :  ('localhost', 1205)  Chame novamente o método connect_server mais tarde\n",
      "Falha para conectar no servidor :  ('localhost', 1205)  Chame novamente o método connect_server mais tarde\n",
      "Servidor indisponível, encerrando processo\n"
     ]
    },
    {
     "ename": "SystemExit",
     "evalue": "1",
     "output_type": "error",
     "traceback": [
      "An exception has occurred, use %tb to see the full traceback.\n",
      "\u001b[1;31mSystemExit\u001b[0m\u001b[1;31m:\u001b[0m 1\n"
     ]
    },
    {
     "name": "stderr",
     "output_type": "stream",
     "text": [
      "C:\\Users\\eduar\\anaconda3\\lib\\site-packages\\IPython\\core\\interactiveshell.py:3351: UserWarning: To exit: use 'exit', 'quit', or Ctrl-D.\n",
      "  warn(\"To exit: use 'exit', 'quit', or Ctrl-D.\", stacklevel=1)\n"
     ]
    }
   ],
   "source": [
    "# SE O CLIENTE NÃO ESTIVER CONECTADO, TENTE CONECTAR ATÉ CONSEGUIR\n",
    "tries = 0  \n",
    "while not cliente.isAlive:\n",
    "    time.sleep(1)\n",
    "    cliente.connect_server() \n",
    "    tries += 1 \n",
    "    if tries > 5:\n",
    "        print(\"Servidor indisponível, encerrando processo\")\n",
    "        sys.exit(1)                      # ENCERRA COM ERRO\n",
    "        \n",
    "# AVISA O SERVIDOR QUEM É \n",
    "cliente.send_message(NAME.encode())\n",
    "\n",
    "# INSTANCIAMENTO DA CLASSE SERIAL READER \n",
    "print(\"Iniciando a conexão Serial na comport %s ...\" %( COMPORT if COMPORT else 'default') )\n",
    "comport = Serial_SR(COMPORT)\n",
    "\n",
    "# CONEXÕES EFETUADAS COM SUCESSO, SEGUIMOS PARA O CÓDIGO\n",
    "input(\"Conexões estabelecidas.... Pressione ENTER para iniciar a transmissão....\")\n",
    "print('\\n' * TERMINAL_SIZE) # SAME AS os.system( 'clear' if os.name == 'nt' else 'cls' )\n",
    "\n",
    "\n",
    "to_send            = 0       # Variavel global\n",
    "var_available      = True    # Mutex improvisado\n",
    "var_global_control = True    # Avisa o fim do código"
   ]
  },
  {
   "cell_type": "code",
   "execution_count": null,
   "metadata": {},
   "outputs": [],
   "source": [
    "def receive_from_server(time_to_send = 1/2):\n",
    "    \n",
    "    global var_global_control\n",
    "    global var_available\n",
    "    global serial_msg\n",
    "\n",
    "    while var_global_control:\n",
    "        time.sleep(time_to_send)\n",
    "        serial_msg = cliente.receive_message().decode()"
   ]
  },
  {
   "cell_type": "code",
   "execution_count": null,
   "metadata": {},
   "outputs": [],
   "source": [
    "# FUNÇÕES DE THREADS PARA LER SERIAL PERIODICO E ENVIAR DADOS\n",
    "def write_serial(time_to_read = 1/2):\n",
    "    \n",
    "    global var_global_control\n",
    "    global var_available\n",
    "    global serial_msg\n",
    "\n",
    "    comport.serial_send(serial_msg)"
   ]
  },
  {
   "cell_type": "code",
   "execution_count": null,
   "metadata": {},
   "outputs": [],
   "source": [
    "# INSTANCIA AS THREADS PASSANDO A FUNÇÃO, PARAMETROS E NOME (IDs)\n",
    "func_reader = Thread(target = receive_from_server, args = ( 1/2 , ), name = \"TCP_Reader\")\n",
    "func_sender = Thread(target = write_serial, args = ( 1/2 , ), name = \"Serial_Writer\")\n",
    "\n",
    "\n",
    "# INICIA AS THREADS FUNCTIONS \n",
    "func_reader.start()\n",
    "func_sender.start()"
   ]
  },
  {
   "cell_type": "code",
   "execution_count": null,
   "metadata": {},
   "outputs": [],
   "source": [
    "# RODA AS FUNÇÕES ATÉ RECEBER UM CARACTER ESPECIAL \n",
    "while True:\n",
    "    func = int(input('Pressione 0 (zero) para encerrar o código')) \n",
    "    if func == 1:\n",
    "        debug = not debug \n",
    "    elif func == 0:\n",
    "        var_global_control = False\n",
    "        break\n",
    "    else:\n",
    "        continue "
   ]
  }
 ],
 "metadata": {
  "kernelspec": {
   "display_name": "Python 3",
   "language": "python",
   "name": "python3"
  },
  "language_info": {
   "codemirror_mode": {
    "name": "ipython",
    "version": 3
   },
   "file_extension": ".py",
   "mimetype": "text/x-python",
   "name": "python",
   "nbconvert_exporter": "python",
   "pygments_lexer": "ipython3",
   "version": "3.8.3"
  }
 },
 "nbformat": 4,
 "nbformat_minor": 4
}
